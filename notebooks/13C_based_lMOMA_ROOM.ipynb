{
 "worksheets": [
  {
   "cells": [
    {
     "cell_type": "code",
     "metadata": {},
     "outputs": [
      {
       "output_type": "stream",
       "stream": "stdout",
       "text": [
        "Last access date & time \n",
        "Thu Feb 19 13:07:32 2015\n"
       ]
      }
     ],
     "input": [
      "import time\n",
      "print \"Last access date & time \\n\" + time.strftime(\"%c\")"
     ],
     "language": "python",
     "prompt_number": 1
    },
    {
     "cell_type": "heading",
     "metadata": {},
     "level": 1,
     "source": [
      "This notebook is for calculation the flux distribution of KOs based on 13C flux data through pFBA, lMOMA and ROOM methods"
     ]
    },
    {
     "cell_type": "heading",
     "metadata": {},
     "level": 4,
     "source": [
      "The flux distribution and setup is based on: Crown, S. B., Long, C. P. & Antoniewicz, M. R. Integrated (13)C-metabolic flux analysis of 14 parallel labeling experiments in Escherichia coli. Metab. Eng. (2015). doi:10.1016/j.ymben.2015.01.001"
     ]
    },
    {
     "cell_type": "heading",
     "metadata": {},
     "level": 4,
     "source": [
      "Not all flux constrains are applied/can be applied (due to lumped reactions used on 13C experiments, and infeasibility of model with some of the combinations). Flux values can be set as ratios constraints or ub/lb with some room for error."
     ]
    },
    {
     "cell_type": "code",
     "metadata": {},
     "outputs": [],
     "input": [
      "from cameo import load_model\n",
      "from cameo.flux_analysis.simulation import lmoma, room, pfba\n",
      "from cameo.parallel import MultiprocessingView, SequentialView\n",
      "from cameo.flux_analysis.analysis import flux_variability_analysis as fva\n",
      "\n",
      "from cobra.manipulation.delete import find_gene_knockout_reactions\n",
      "\n",
      "import escher\n",
      "\n",
      "import pandas as pd\n",
      "\n",
      "from multiprocessing import Pool\n",
      "from functools import partial\n",
      "import numpy as np"
     ],
     "language": "python",
     "prompt_number": 2
    },
    {
     "cell_type": "heading",
     "metadata": {},
     "level": 3,
     "source": [
      "Load model"
     ]
    },
    {
     "cell_type": "code",
     "metadata": {},
     "outputs": [],
     "input": [
      "iJO = load_model('../../Models/E.coli/iJO1366_20141021.xml')\n",
      "# iJO.solver.configuration.timeout = 120\n",
      "# iJO.solver = \"cplex\""
     ],
     "language": "python",
     "prompt_number": 3
    },
    {
     "cell_type": "heading",
     "metadata": {},
     "level": 4,
     "source": [
      "Setup model for bounds version"
     ]
    },
    {
     "cell_type": "code",
     "metadata": {},
     "outputs": [
      {
       "output_type": "pyout",
       "prompt_number": 4,
       "text": [
        "0.7857341104634985"
       ],
       "metadata": {}
      }
     ],
     "input": [
      "modelB = iJO.copy()\n",
      "rxnBound = {\\\n",
      "            \"EX_glc_lp_e_rp_\": [-10.40965107, -10.4503385],\n",
      "            \"GLCptspp\": [10.40965107, 10.4503385],\n",
      "            \"PGI\": [7.35860489, 7.57227387],\n",
      "            \"PFK\": [8.55935864, 8.67982514],\n",
      "            \"FBA\": [8.55935864, 8.67982514],\n",
      "            \"TPI\": [8.55935864, 8.67982514],\n",
      "            \"GAPD\": [17.6426579, 17.9288571],\n",
      "            \"PGK\": [-17.6426579, -17.9288571],\n",
      "            \"PGM\": [-16.1968513, -16.6751711],\n",
      "            \"ENO\": [16.1968513, 16.6751711],\n",
      "            \"PYK\": [2.38209727, 3.27936931],\n",
      "            \"G6PDH2r\": [2.69451749, 2.91458006],\n",
      "            \"GND\": [2.55020801, 2.76522246],\n",
      "            \"RPE\": [1.11581183, 1.30394817],\n",
      "            \"RPI\": [-1.40202146, -1.49203236],\n",
      "            \"EDD\": [0.112780633, 0.183211294],\n",
      "            \"EDA\": [0.112780633, 0.183211294],\n",
      "            \"PDH\": [11.2978803, 12.4997292],\n",
      "            \"CS\": [1.84921814, 2.11797838],\n",
      "            \"ACONTa\": [1.84921814, 2.11797838],\n",
      "            \"ACONTb\": [1.84921814, 2.11797838],\n",
      "            \"ICDHyr\": [1.56538655, 1.89717528],\n",
      "            \"AKGDH\": [0.747454477, 1.027061917],\n",
      "            \"SUCOAS\": [-0.379703107, -0.652958677],\n",
      "            \"SUCDi\": [1.04795425, 1.23205418],\n",
      "            \"FUM\": [1.32620579, 1.53493095],\n",
      "            \"MDH\": [0.976218796, 1.28807371],\n",
      "            \"ICL\": [0.182467635, 0.325904124],\n",
      "            \"MALS\": [0.182467635, 0.325904124],\n",
      "            \"ME2\": [0.000000001043, 0.697007696],\n",
      "            \"ME1\": [0.000000001043, 0.697009782],\n",
      "            \"PPC\": [2.54537892, 2.92150558],\n",
      "            \"PPCK\": [0.0367090108, 0.290508876],\n",
      "            \"GLUDy\": [-4.74501377, -5.51393423],\n",
      "#             \"GLNS\": [0.489188903, 0.568338001],\n",
      "#             \"ASPTA\": [-1.32957468, -1.56318582],\n",
      "            \"ALATA_L\": [-0.353665655, -0.410886721],\n",
      "#             \"PGCD\": [0.799934065, 0.934983791],\n",
      "#             \"PSERT\": [0.799934065, 0.934983791],\n",
      "#             \"PSP_L\": [0.80311, 0.9387],\n",
      "            \"EX_ac_lp_e_rp_\": [6.49789, 8.28142],\n",
      "            \"EX_co2_lp_e_rp_\": [16.13521, 17.29294],\n",
      "            \"EX_o2_lp_e_rp_\": [-14.20566, -15.62414],\n",
      "#             \"EX_nh4_lp_e_rp_\": [-5.04812, -5.86166],\n",
      "            \"EX_so4_lp_e_rp_\": [-0.16688, -0.19817]\n",
      "            }\n",
      "\n",
      "for rxn, bounds in rxnBound.iteritems():\n",
      "    if bounds[0] < bounds[1]: # to fix the issue with negaive values above\n",
      "        modelB.reactions.get_by_id(rxn).lower_bound = bounds[0]\n",
      "        modelB.reactions.get_by_id(rxn).upper_bound = bounds[1]\n",
      "    else:\n",
      "        modelB.reactions.get_by_id(rxn).upper_bound = bounds[0]\n",
      "        modelB.reactions.get_by_id(rxn).lower_bound = bounds[1]\n",
      "\n",
      "modelB.solve().f"
     ],
     "language": "python",
     "prompt_number": 4
    },
    {
     "cell_type": "heading",
     "metadata": {},
     "level": 4,
     "source": [
      "Average growth rate on the paper was 0.72"
     ]
    }
   ]
  }
 ],
 "cells": [],
 "metadata": {
  "name": "",
  "signature": "sha256:c97fd6aecb1df26ccceaf15039496f4351fb7f921a7ba74572d5a84b7b882928"
 },
 "nbformat": 3,
 "nbformat_minor": 0
}